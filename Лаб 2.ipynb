{
  "nbformat": 4,
  "nbformat_minor": 0,
  "metadata": {
    "colab": {
      "provenance": []
    },
    "kernelspec": {
      "name": "python3",
      "display_name": "Python 3"
    },
    "language_info": {
      "name": "python"
    }
  },
  "cells": [
    {
      "cell_type": "markdown",
      "source": [
        "### **Отчёт по лабораторной работе № 2**\n",
        "\n",
        "\n",
        "\n",
        "**по дисциплине «Технологии обеспечения информационной безопасностью»**\n",
        "\n",
        "**Тема: «Анализ логов»**\n",
        "\n",
        "Номер варианта = 11 mod 16 + 1 = 12\n",
        "Proxifier\n",
        "\n",
        "Выполнил\n",
        "Студент 1 курса\n",
        "Группы ББМО-01-23\n",
        "Белов Владимир Станиславович\n"
      ],
      "metadata": {
        "id": "nHjfW6ADxLPO"
      }
    },
    {
      "cell_type": "markdown",
      "source": [
        "1) Клонирование репозитория с логами для их  анализа"
      ],
      "metadata": {
        "id": "mjYGMJxRyKEF"
      }
    },
    {
      "cell_type": "code",
      "source": [
        "import os.path\n",
        "\n",
        "if not os.path.isdir(\"./loghub/\"):\n",
        "    !git clone https://github.com/logpai/loghub"
      ],
      "metadata": {
        "id": "kHjREJD13te4"
      },
      "execution_count": 561,
      "outputs": []
    },
    {
      "cell_type": "markdown",
      "source": [
        "### Задание регулярного выражения для парсинга логов\n",
        "\n",
        "Пример лога из файла Proxifier_2k.log, который необходимо распарсить:\n",
        "\n",
        "[10.30 16:49:07] chrome.exe - proxy.cse.cuhk.edu.hk:5070 open through proxy proxy.cse.cuhk.edu.hk:5070 HTTPS\n",
        "\n",
        "Поля лога:\n",
        "\n",
        "- 10.30 - Data, Группа для извлечения даты в формате `MM:DD`.\n",
        "- 16:49:07 - \tTime, в формате `HH:MM:SS`\n",
        "- chrome.exe - Program\n",
        "- proxy.cse.cuhk.edu.hk:5070 open through proxy proxy.cse.cuhk.edu.hk:5070 HTTPS - content, содержание записи, все символы до конца строки\n"
      ],
      "metadata": {
        "id": "619fLF703z9z"
      }
    },
    {
      "cell_type": "code",
      "source": [
        "import re\n",
        "\n",
        "line=\"[10.30 16:49:07] chrome.exe - proxy.cse.cuhk.edu.hk:5070 open through proxy proxy.cse.cuhk.edu.hk:5070 HTTPS\"\n",
        "\n",
        "regex_pattern=r'\\[(\\d{2}.\\d{2})\\s(\\d{2}:\\d{2}:\\d{2})\\]\\s(\\w+.\\w+)(.*)'"
      ],
      "metadata": {
        "id": "RAJM15ecBJBY"
      },
      "execution_count": 618,
      "outputs": []
    },
    {
      "cell_type": "markdown",
      "source": [
        "### **Создание базы данных**\n",
        "В среде выполнения создаётся каталог ./db, где будет храниться файл базы данных SQLite"
      ],
      "metadata": {
        "id": "zlb-V6ySC0VM"
      }
    },
    {
      "cell_type": "code",
      "source": [
        "if not os.path.isdir(\"./db/\"):\n",
        "  os.makedirs(\"./db/\")"
      ],
      "metadata": {
        "id": "Uu5r4IIRC5Uo"
      },
      "execution_count": 614,
      "outputs": []
    },
    {
      "cell_type": "code",
      "source": [
        "import sqlite3\n",
        "\n",
        "# путь к файлу с БД\n",
        "db_path = './db/log-analysis.db'\n",
        "\n",
        "# подключение к БД\n",
        "connection = sqlite3.connect(db_path)\n",
        "# создание курсора\n",
        "cursor = connection.cursor()\n",
        "\n",
        "# очистка БД, если таблица уже создана\n",
        "cursor.execute(\"DROP TABLE IF EXISTS logs\")\n",
        "# создание таблицы\n",
        "cursor.execute(\"CREATE TABLE logs (id INTEGER PRIMARY KEY AUTOINCREMENT, Data int, Time int, Program text, Content)\")\n",
        "\n",
        "# сохранение изменений\n",
        "connection.commit()\n",
        "# закрытие курсора\n",
        "cursor.close()\n",
        "# закрытие подключения к БД\n",
        "connection.close()"
      ],
      "metadata": {
        "id": "BRocJJFhC70D"
      },
      "execution_count": 619,
      "outputs": []
    },
    {
      "cell_type": "markdown",
      "source": [
        "### Парсинг лога и занисение данных в БД\n"
      ],
      "metadata": {
        "id": "GE8MARR6Db_O"
      }
    },
    {
      "cell_type": "code",
      "source": [
        "from pickle import NONE\n",
        "# подключение к БД и создание курсора\n",
        "connection = sqlite3.connect(db_path)\n",
        "cursor = connection.cursor()\n",
        "\n",
        "# очистка таблицы во избежание дублирования данных\n",
        "cursor.execute(\"DELETE FROM logs\")\n",
        "\n",
        "# парсинг файла с логом\n",
        "with open('./loghub/Proxifier/Proxifier_2k.log', 'r', encoding='utf-8') as file:\n",
        "    for line in file:\n",
        "        log = re.match(regex_pattern, line)\n",
        "        if log:\n",
        "            data = log.group(1)\n",
        "            time = log.group (2)\n",
        "            program = log.group(3)\n",
        "            content = log.group(4)\n",
        "            values = (data,  time, program, content) # создание объекта для подстановки в SQL-запрос\n",
        "            sql = \"INSERT INTO logs (Data, Time, Program, Content) VALUES  (?, ?, ?, ?)\"\n",
        "            cursor.execute(sql, values) # запись данных в БД\n",
        "\n",
        "connection.commit()\n",
        "cursor.close()\n",
        "connection.close()"
      ],
      "metadata": {
        "id": "p_1Hn6EZDf_v"
      },
      "execution_count": 620,
      "outputs": []
    },
    {
      "cell_type": "markdown",
      "source": [
        "### Чтение данных из БД"
      ],
      "metadata": {
        "id": "2v-CvTQNDwOM"
      }
    },
    {
      "cell_type": "code",
      "source": [
        "import pandas as pd\n",
        "\n",
        "# подключение к БД и создание курсора\n",
        "connection = sqlite3.connect(db_path)\n",
        "cursor = connection.cursor()\n",
        "\n",
        "# выборка всех записей из таблицы\n",
        "cursor.execute(\"SELECT * FROM logs\")\n",
        "rows = cursor.fetchall()\n",
        "\n",
        "cursor.close()\n",
        "connection.close()\n",
        "\n",
        "# запись данных в объект DataFrame\n",
        "log_df = pd.DataFrame(rows, columns=(\"ID\", \"Data\", \"Time\", \"Program\", \"Content\"))\n",
        "log_df"
      ],
      "metadata": {
        "colab": {
          "base_uri": "https://localhost:8080/",
          "height": 424
        },
        "id": "FrV0XvdQD3eH",
        "outputId": "e9c13bab-e223-47e0-bf87-85dac921eae8"
      },
      "execution_count": 621,
      "outputs": [
        {
          "output_type": "execute_result",
          "data": {
            "text/plain": [
              "        ID   Data      Time     Program  \\\n",
              "0        1  10.30  16:49:06  chrome.exe   \n",
              "1        2  10.30  16:49:06  chrome.exe   \n",
              "2        3  10.30  16:49:06  chrome.exe   \n",
              "3        4  10.30  16:49:07  chrome.exe   \n",
              "4        5  10.30  16:49:07  chrome.exe   \n",
              "...    ...    ...       ...         ...   \n",
              "1995  1996   7.27  10:23:30  chrome.exe   \n",
              "1996  1997   7.27  10:23:30  chrome.exe   \n",
              "1997  1998   7.27  10:23:42  chrome.exe   \n",
              "1998  1999   7.27  10:23:42  chrome.exe   \n",
              "1999  2000   7.27  10:23:42  chrome.exe   \n",
              "\n",
              "                                                Content  \n",
              "0      - proxy.cse.cuhk.edu.hk:5070 open through pro...  \n",
              "1      - proxy.cse.cuhk.edu.hk:5070 open through pro...  \n",
              "2      - proxy.cse.cuhk.edu.hk:5070 open through pro...  \n",
              "3      - proxy.cse.cuhk.edu.hk:5070 close, 0 bytes s...  \n",
              "4      - proxy.cse.cuhk.edu.hk:5070 open through pro...  \n",
              "...                                                 ...  \n",
              "1995   *64 - cpro.baidustatic.com:443 close, 334 byt...  \n",
              "1996   *64 - q1.cnzz.com:80 open through proxy proxy...  \n",
              "1997   *64 - t12.baidu.com:80 close, 0 bytes sent, 0...  \n",
              "1998   *64 - mhfm9.us.cdndm5.com:80 close, 0 bytes s...  \n",
              "1999   *64 - t12.baidu.com:80 close, 0 bytes sent, 0...  \n",
              "\n",
              "[2000 rows x 5 columns]"
            ],
            "text/html": [
              "\n",
              "  <div id=\"df-57a4d0a7-e873-4ec4-bcd7-ef5392388976\" class=\"colab-df-container\">\n",
              "    <div>\n",
              "<style scoped>\n",
              "    .dataframe tbody tr th:only-of-type {\n",
              "        vertical-align: middle;\n",
              "    }\n",
              "\n",
              "    .dataframe tbody tr th {\n",
              "        vertical-align: top;\n",
              "    }\n",
              "\n",
              "    .dataframe thead th {\n",
              "        text-align: right;\n",
              "    }\n",
              "</style>\n",
              "<table border=\"1\" class=\"dataframe\">\n",
              "  <thead>\n",
              "    <tr style=\"text-align: right;\">\n",
              "      <th></th>\n",
              "      <th>ID</th>\n",
              "      <th>Data</th>\n",
              "      <th>Time</th>\n",
              "      <th>Program</th>\n",
              "      <th>Content</th>\n",
              "    </tr>\n",
              "  </thead>\n",
              "  <tbody>\n",
              "    <tr>\n",
              "      <th>0</th>\n",
              "      <td>1</td>\n",
              "      <td>10.30</td>\n",
              "      <td>16:49:06</td>\n",
              "      <td>chrome.exe</td>\n",
              "      <td>- proxy.cse.cuhk.edu.hk:5070 open through pro...</td>\n",
              "    </tr>\n",
              "    <tr>\n",
              "      <th>1</th>\n",
              "      <td>2</td>\n",
              "      <td>10.30</td>\n",
              "      <td>16:49:06</td>\n",
              "      <td>chrome.exe</td>\n",
              "      <td>- proxy.cse.cuhk.edu.hk:5070 open through pro...</td>\n",
              "    </tr>\n",
              "    <tr>\n",
              "      <th>2</th>\n",
              "      <td>3</td>\n",
              "      <td>10.30</td>\n",
              "      <td>16:49:06</td>\n",
              "      <td>chrome.exe</td>\n",
              "      <td>- proxy.cse.cuhk.edu.hk:5070 open through pro...</td>\n",
              "    </tr>\n",
              "    <tr>\n",
              "      <th>3</th>\n",
              "      <td>4</td>\n",
              "      <td>10.30</td>\n",
              "      <td>16:49:07</td>\n",
              "      <td>chrome.exe</td>\n",
              "      <td>- proxy.cse.cuhk.edu.hk:5070 close, 0 bytes s...</td>\n",
              "    </tr>\n",
              "    <tr>\n",
              "      <th>4</th>\n",
              "      <td>5</td>\n",
              "      <td>10.30</td>\n",
              "      <td>16:49:07</td>\n",
              "      <td>chrome.exe</td>\n",
              "      <td>- proxy.cse.cuhk.edu.hk:5070 open through pro...</td>\n",
              "    </tr>\n",
              "    <tr>\n",
              "      <th>...</th>\n",
              "      <td>...</td>\n",
              "      <td>...</td>\n",
              "      <td>...</td>\n",
              "      <td>...</td>\n",
              "      <td>...</td>\n",
              "    </tr>\n",
              "    <tr>\n",
              "      <th>1995</th>\n",
              "      <td>1996</td>\n",
              "      <td>7.27</td>\n",
              "      <td>10:23:30</td>\n",
              "      <td>chrome.exe</td>\n",
              "      <td>*64 - cpro.baidustatic.com:443 close, 334 byt...</td>\n",
              "    </tr>\n",
              "    <tr>\n",
              "      <th>1996</th>\n",
              "      <td>1997</td>\n",
              "      <td>7.27</td>\n",
              "      <td>10:23:30</td>\n",
              "      <td>chrome.exe</td>\n",
              "      <td>*64 - q1.cnzz.com:80 open through proxy proxy...</td>\n",
              "    </tr>\n",
              "    <tr>\n",
              "      <th>1997</th>\n",
              "      <td>1998</td>\n",
              "      <td>7.27</td>\n",
              "      <td>10:23:42</td>\n",
              "      <td>chrome.exe</td>\n",
              "      <td>*64 - t12.baidu.com:80 close, 0 bytes sent, 0...</td>\n",
              "    </tr>\n",
              "    <tr>\n",
              "      <th>1998</th>\n",
              "      <td>1999</td>\n",
              "      <td>7.27</td>\n",
              "      <td>10:23:42</td>\n",
              "      <td>chrome.exe</td>\n",
              "      <td>*64 - mhfm9.us.cdndm5.com:80 close, 0 bytes s...</td>\n",
              "    </tr>\n",
              "    <tr>\n",
              "      <th>1999</th>\n",
              "      <td>2000</td>\n",
              "      <td>7.27</td>\n",
              "      <td>10:23:42</td>\n",
              "      <td>chrome.exe</td>\n",
              "      <td>*64 - t12.baidu.com:80 close, 0 bytes sent, 0...</td>\n",
              "    </tr>\n",
              "  </tbody>\n",
              "</table>\n",
              "<p>2000 rows × 5 columns</p>\n",
              "</div>\n",
              "    <div class=\"colab-df-buttons\">\n",
              "\n",
              "  <div class=\"colab-df-container\">\n",
              "    <button class=\"colab-df-convert\" onclick=\"convertToInteractive('df-57a4d0a7-e873-4ec4-bcd7-ef5392388976')\"\n",
              "            title=\"Convert this dataframe to an interactive table.\"\n",
              "            style=\"display:none;\">\n",
              "\n",
              "  <svg xmlns=\"http://www.w3.org/2000/svg\" height=\"24px\" viewBox=\"0 -960 960 960\">\n",
              "    <path d=\"M120-120v-720h720v720H120Zm60-500h600v-160H180v160Zm220 220h160v-160H400v160Zm0 220h160v-160H400v160ZM180-400h160v-160H180v160Zm440 0h160v-160H620v160ZM180-180h160v-160H180v160Zm440 0h160v-160H620v160Z\"/>\n",
              "  </svg>\n",
              "    </button>\n",
              "\n",
              "  <style>\n",
              "    .colab-df-container {\n",
              "      display:flex;\n",
              "      gap: 12px;\n",
              "    }\n",
              "\n",
              "    .colab-df-convert {\n",
              "      background-color: #E8F0FE;\n",
              "      border: none;\n",
              "      border-radius: 50%;\n",
              "      cursor: pointer;\n",
              "      display: none;\n",
              "      fill: #1967D2;\n",
              "      height: 32px;\n",
              "      padding: 0 0 0 0;\n",
              "      width: 32px;\n",
              "    }\n",
              "\n",
              "    .colab-df-convert:hover {\n",
              "      background-color: #E2EBFA;\n",
              "      box-shadow: 0px 1px 2px rgba(60, 64, 67, 0.3), 0px 1px 3px 1px rgba(60, 64, 67, 0.15);\n",
              "      fill: #174EA6;\n",
              "    }\n",
              "\n",
              "    .colab-df-buttons div {\n",
              "      margin-bottom: 4px;\n",
              "    }\n",
              "\n",
              "    [theme=dark] .colab-df-convert {\n",
              "      background-color: #3B4455;\n",
              "      fill: #D2E3FC;\n",
              "    }\n",
              "\n",
              "    [theme=dark] .colab-df-convert:hover {\n",
              "      background-color: #434B5C;\n",
              "      box-shadow: 0px 1px 3px 1px rgba(0, 0, 0, 0.15);\n",
              "      filter: drop-shadow(0px 1px 2px rgba(0, 0, 0, 0.3));\n",
              "      fill: #FFFFFF;\n",
              "    }\n",
              "  </style>\n",
              "\n",
              "    <script>\n",
              "      const buttonEl =\n",
              "        document.querySelector('#df-57a4d0a7-e873-4ec4-bcd7-ef5392388976 button.colab-df-convert');\n",
              "      buttonEl.style.display =\n",
              "        google.colab.kernel.accessAllowed ? 'block' : 'none';\n",
              "\n",
              "      async function convertToInteractive(key) {\n",
              "        const element = document.querySelector('#df-57a4d0a7-e873-4ec4-bcd7-ef5392388976');\n",
              "        const dataTable =\n",
              "          await google.colab.kernel.invokeFunction('convertToInteractive',\n",
              "                                                    [key], {});\n",
              "        if (!dataTable) return;\n",
              "\n",
              "        const docLinkHtml = 'Like what you see? Visit the ' +\n",
              "          '<a target=\"_blank\" href=https://colab.research.google.com/notebooks/data_table.ipynb>data table notebook</a>'\n",
              "          + ' to learn more about interactive tables.';\n",
              "        element.innerHTML = '';\n",
              "        dataTable['output_type'] = 'display_data';\n",
              "        await google.colab.output.renderOutput(dataTable, element);\n",
              "        const docLink = document.createElement('div');\n",
              "        docLink.innerHTML = docLinkHtml;\n",
              "        element.appendChild(docLink);\n",
              "      }\n",
              "    </script>\n",
              "  </div>\n",
              "\n",
              "\n",
              "<div id=\"df-90d426de-4667-4f5e-8cd6-a45ec902f726\">\n",
              "  <button class=\"colab-df-quickchart\" onclick=\"quickchart('df-90d426de-4667-4f5e-8cd6-a45ec902f726')\"\n",
              "            title=\"Suggest charts\"\n",
              "            style=\"display:none;\">\n",
              "\n",
              "<svg xmlns=\"http://www.w3.org/2000/svg\" height=\"24px\"viewBox=\"0 0 24 24\"\n",
              "     width=\"24px\">\n",
              "    <g>\n",
              "        <path d=\"M19 3H5c-1.1 0-2 .9-2 2v14c0 1.1.9 2 2 2h14c1.1 0 2-.9 2-2V5c0-1.1-.9-2-2-2zM9 17H7v-7h2v7zm4 0h-2V7h2v10zm4 0h-2v-4h2v4z\"/>\n",
              "    </g>\n",
              "</svg>\n",
              "  </button>\n",
              "\n",
              "<style>\n",
              "  .colab-df-quickchart {\n",
              "      --bg-color: #E8F0FE;\n",
              "      --fill-color: #1967D2;\n",
              "      --hover-bg-color: #E2EBFA;\n",
              "      --hover-fill-color: #174EA6;\n",
              "      --disabled-fill-color: #AAA;\n",
              "      --disabled-bg-color: #DDD;\n",
              "  }\n",
              "\n",
              "  [theme=dark] .colab-df-quickchart {\n",
              "      --bg-color: #3B4455;\n",
              "      --fill-color: #D2E3FC;\n",
              "      --hover-bg-color: #434B5C;\n",
              "      --hover-fill-color: #FFFFFF;\n",
              "      --disabled-bg-color: #3B4455;\n",
              "      --disabled-fill-color: #666;\n",
              "  }\n",
              "\n",
              "  .colab-df-quickchart {\n",
              "    background-color: var(--bg-color);\n",
              "    border: none;\n",
              "    border-radius: 50%;\n",
              "    cursor: pointer;\n",
              "    display: none;\n",
              "    fill: var(--fill-color);\n",
              "    height: 32px;\n",
              "    padding: 0;\n",
              "    width: 32px;\n",
              "  }\n",
              "\n",
              "  .colab-df-quickchart:hover {\n",
              "    background-color: var(--hover-bg-color);\n",
              "    box-shadow: 0 1px 2px rgba(60, 64, 67, 0.3), 0 1px 3px 1px rgba(60, 64, 67, 0.15);\n",
              "    fill: var(--button-hover-fill-color);\n",
              "  }\n",
              "\n",
              "  .colab-df-quickchart-complete:disabled,\n",
              "  .colab-df-quickchart-complete:disabled:hover {\n",
              "    background-color: var(--disabled-bg-color);\n",
              "    fill: var(--disabled-fill-color);\n",
              "    box-shadow: none;\n",
              "  }\n",
              "\n",
              "  .colab-df-spinner {\n",
              "    border: 2px solid var(--fill-color);\n",
              "    border-color: transparent;\n",
              "    border-bottom-color: var(--fill-color);\n",
              "    animation:\n",
              "      spin 1s steps(1) infinite;\n",
              "  }\n",
              "\n",
              "  @keyframes spin {\n",
              "    0% {\n",
              "      border-color: transparent;\n",
              "      border-bottom-color: var(--fill-color);\n",
              "      border-left-color: var(--fill-color);\n",
              "    }\n",
              "    20% {\n",
              "      border-color: transparent;\n",
              "      border-left-color: var(--fill-color);\n",
              "      border-top-color: var(--fill-color);\n",
              "    }\n",
              "    30% {\n",
              "      border-color: transparent;\n",
              "      border-left-color: var(--fill-color);\n",
              "      border-top-color: var(--fill-color);\n",
              "      border-right-color: var(--fill-color);\n",
              "    }\n",
              "    40% {\n",
              "      border-color: transparent;\n",
              "      border-right-color: var(--fill-color);\n",
              "      border-top-color: var(--fill-color);\n",
              "    }\n",
              "    60% {\n",
              "      border-color: transparent;\n",
              "      border-right-color: var(--fill-color);\n",
              "    }\n",
              "    80% {\n",
              "      border-color: transparent;\n",
              "      border-right-color: var(--fill-color);\n",
              "      border-bottom-color: var(--fill-color);\n",
              "    }\n",
              "    90% {\n",
              "      border-color: transparent;\n",
              "      border-bottom-color: var(--fill-color);\n",
              "    }\n",
              "  }\n",
              "</style>\n",
              "\n",
              "  <script>\n",
              "    async function quickchart(key) {\n",
              "      const quickchartButtonEl =\n",
              "        document.querySelector('#' + key + ' button');\n",
              "      quickchartButtonEl.disabled = true;  // To prevent multiple clicks.\n",
              "      quickchartButtonEl.classList.add('colab-df-spinner');\n",
              "      try {\n",
              "        const charts = await google.colab.kernel.invokeFunction(\n",
              "            'suggestCharts', [key], {});\n",
              "      } catch (error) {\n",
              "        console.error('Error during call to suggestCharts:', error);\n",
              "      }\n",
              "      quickchartButtonEl.classList.remove('colab-df-spinner');\n",
              "      quickchartButtonEl.classList.add('colab-df-quickchart-complete');\n",
              "    }\n",
              "    (() => {\n",
              "      let quickchartButtonEl =\n",
              "        document.querySelector('#df-90d426de-4667-4f5e-8cd6-a45ec902f726 button');\n",
              "      quickchartButtonEl.style.display =\n",
              "        google.colab.kernel.accessAllowed ? 'block' : 'none';\n",
              "    })();\n",
              "  </script>\n",
              "</div>\n",
              "    </div>\n",
              "  </div>\n"
            ]
          },
          "metadata": {},
          "execution_count": 621
        }
      ]
    },
    {
      "cell_type": "markdown",
      "source": [
        "### Статистический анализ и визуализация\n",
        "\n",
        "1) Распределение отчётов по дате получения\n"
      ],
      "metadata": {
        "id": "7vnwUb1TmmJY"
      }
    },
    {
      "cell_type": "code",
      "source": [
        "alerts_distrib = log_df[log_df['Program']=='chrome.exe'].copy()\n",
        "\n",
        "alerts_distrib = alerts_distrib['Data'].value_counts()\n",
        "\n",
        "alerts_distrib.plot(kind='bar')\n",
        "\n",
        "plt.xlabel('Дата')\n",
        "plt.ylabel('Число предупреждений')\n",
        "plt.show()"
      ],
      "metadata": {
        "colab": {
          "base_uri": "https://localhost:8080/",
          "height": 466
        },
        "id": "xl3xS-KgndPd",
        "outputId": "04192113-7568-45e4-b3a7-f30960410e57"
      },
      "execution_count": 626,
      "outputs": [
        {
          "output_type": "display_data",
          "data": {
            "text/plain": [
              "<Figure size 640x480 with 1 Axes>"
            ],
            "image/png": "[encoded data removed]"
          },
          "metadata": {}
        }
      ]
    },
    {
      "cell_type": "markdown",
      "source": [
        "2) Распределение отчётов по программам"
      ],
      "metadata": {
        "id": "GJyk9ytiqZRV"
      }
    },
    {
      "cell_type": "code",
      "source": [
        "import matplotlib.pyplot as plt\n",
        "\n",
        "components_distrib = log_df['Program'].value_counts()\n",
        "\n",
        "components_distrib.plot(kind='bar')\n",
        "\n",
        "plt.xlabel('Программа')\n",
        "plt.ylabel('Количество логов')\n",
        "plt.show()"
      ],
      "metadata": {
        "colab": {
          "base_uri": "https://localhost:8080/",
          "height": 680
        },
        "id": "dZwx9IMkmuxx",
        "outputId": "d266a8bb-7d5b-461f-b4d9-a7e3619fd3e8"
      },
      "execution_count": 591,
      "outputs": [
        {
          "output_type": "display_data",
          "data": {
            "text/plain": [
              "<Figure size 640x480 with 1 Axes>"
            ],
            "image/png": "[encoded data removed]"
          },
          "metadata": {}
        }
      ]
    }
  ]
}